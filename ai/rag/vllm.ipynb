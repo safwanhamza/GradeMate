{
 "cells": [
  {
   "cell_type": "code",
   "execution_count": 1,
   "metadata": {},
   "outputs": [
    {
     "name": "stderr",
     "output_type": "stream",
     "text": [
      "c:\\Users\\tayya\\AppData\\Local\\Programs\\Python\\Python311\\Lib\\site-packages\\tqdm\\auto.py:21: TqdmWarning: IProgress not found. Please update jupyter and ipywidgets. See https://ipywidgets.readthedocs.io/en/stable/user_install.html\n",
      "  from .autonotebook import tqdm as notebook_tqdm\n"
     ]
    }
   ],
   "source": [
    "from transformers import AutoTokenizer, AutoModelForSequenceClassification\n",
    "from sentence_transformers import SentenceTransformer, util\n",
    "\n",
    "# Load a lightweight model for semantic similarity\n",
    "model_name = \"sentence-transformers/all-MiniLM-L6-v2\"\n",
    "model = SentenceTransformer(model_name)"
   ]
  },
  {
   "cell_type": "code",
   "execution_count": 2,
   "metadata": {},
   "outputs": [],
   "source": [
    "def grade_responses(questions, student_answers, model_answers):\n",
    "    \"\"\"\n",
    "    Grades student responses based on semantic similarity to model answers.\n",
    "    \"\"\"\n",
    "    scores = {}\n",
    "    for i, (question, student_answer, model_answer) in enumerate(zip(questions, student_answers, model_answers)):\n",
    "        # Compute embeddings\n",
    "        embeddings = model.encode([student_answer, model_answer], convert_to_tensor=True)\n",
    "        \n",
    "        # Calculate cosine similarity\n",
    "        similarity = util.cos_sim(embeddings[0], embeddings[1]).item()\n",
    "        \n",
    "        # Scale the similarity score to a percentage\n",
    "        score = round(similarity * 100, 2)\n",
    "        scores[f\"Question {i+1}\"] = {\"Student Answer\": student_answer,\n",
    "                                     \"Model Answer\": model_answer,\n",
    "                                     \"Score (%)\": score}\n",
    "    return scores\n"
   ]
  },
  {
   "cell_type": "code",
   "execution_count": 3,
   "metadata": {},
   "outputs": [
    {
     "name": "stdout",
     "output_type": "stream",
     "text": [
      "Question 1:\n",
      "Student Answer: Gravity is the force that attracts objects towards the center of the Earth.\n",
      "Model Answer: Gravity is a natural phenomenon by which all things with mass are brought toward one another.\n",
      "Score (%): 70.74\n",
      "\n"
     ]
    }
   ],
   "source": [
    "# Sample data\n",
    "questions = [\"Explain the concept of gravity.\"]\n",
    "student_answers = [\"Gravity is the force that attracts objects towards the center of the Earth.\"]\n",
    "model_answers = [\"Gravity is a natural phenomenon by which all things with mass are brought toward one another.\"]\n",
    "\n",
    "# Grade the responses\n",
    "results = grade_responses(questions, student_answers, model_answers)\n",
    "\n",
    "# Display results\n",
    "for question, result in results.items():\n",
    "    print(f\"{question}:\")\n",
    "    print(f\"Student Answer: {result['Student Answer']}\")\n",
    "    print(f\"Model Answer: {result['Model Answer']}\")\n",
    "    print(f\"Score (%): {result['Score (%)']}\\n\")\n"
   ]
  }
 ],
 "metadata": {
  "kernelspec": {
   "display_name": "Python 3",
   "language": "python",
   "name": "python3"
  },
  "language_info": {
   "codemirror_mode": {
    "name": "ipython",
    "version": 3
   },
   "file_extension": ".py",
   "mimetype": "text/x-python",
   "name": "python",
   "nbconvert_exporter": "python",
   "pygments_lexer": "ipython3",
   "version": "3.11.9"
  }
 },
 "nbformat": 4,
 "nbformat_minor": 2
}
