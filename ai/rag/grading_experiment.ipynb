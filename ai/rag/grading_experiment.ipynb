{
 "cells": [
  {
   "cell_type": "markdown",
   "id": "b19a4411",
   "metadata": {},
   "source": [
    "### Grading Preview"
   ]
  },
  {
   "cell_type": "code",
   "execution_count": 1,
   "id": "d8a3db01",
   "metadata": {},
   "outputs": [],
   "source": [
    "#if __name__ == \"__main__\":\n",
    "#grading"
   ]
  }
 ],
 "metadata": {
  "kernelspec": {
   "display_name": "Python 3",
   "language": "python",
   "name": "python3"
  },
  "language_info": {
   "codemirror_mode": {
    "name": "ipython",
    "version": 3
   },
   "file_extension": ".py",
   "mimetype": "text/x-python",
   "name": "python",
   "nbconvert_exporter": "python",
   "pygments_lexer": "ipython3",
   "version": "3.11.5"
  }
 },
 "nbformat": 4,
 "nbformat_minor": 5
}
