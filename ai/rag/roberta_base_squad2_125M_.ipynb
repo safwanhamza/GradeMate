{
  "nbformat": 4,
  "nbformat_minor": 0,
  "metadata": {
    "colab": {
      "provenance": []
    },
    "kernelspec": {
      "name": "python3",
      "display_name": "Python 3"
    },
    "language_info": {
      "name": "python"
    }
  },
  "cells": [
    {
      "cell_type": "markdown",
      "source": [
        "\n",
        "Model: Roberta-base-squad2\n",
        "link: https://huggingface.co/deepset/roberta-base-squad2\n"
      ],
      "metadata": {
        "id": "O9Wj0cRTKGoD"
      }
    },
    {
      "cell_type": "markdown",
      "source": [],
      "metadata": {
        "id": "jyEfXTcsKGf9"
      }
    },
    {
      "cell_type": "markdown",
      "source": [],
      "metadata": {
        "id": "g12Kl_6TKGWu"
      }
    },
    {
      "cell_type": "code",
      "source": [
        "from transformers import AutoTokenizer, AutoModelForQuestionAnswering\n",
        "import torch\n",
        "\n",
        "# Load tokenizer and model\n",
        "tokenizer = AutoTokenizer.from_pretrained(\"deepset/roberta-base-squad2\")\n",
        "model = AutoModelForQuestionAnswering.from_pretrained(\"deepset/roberta-base-squad2\")\n",
        "\n",
        "# Define the context and question\n",
        "context = \"\"\"\n",
        "\"In the late 19th century, technological innovations such as electricity and mechanization triggered a transformation in manufacturing industries across Europe and North America.\n",
        "Factories adopted assembly lines, which significantly boosted production capacity and efficiency. Workers could specialize in individual tasks, reducing the time and effort\n",
        "required to produce goods. By the early 20th century, this industrial boom led to mass production of automobiles, spearheaded by pioneers like Henry Ford. Ford's introduction\n",
        "of the moving assembly line in 1913 revolutionized not only car manufacturing but also production processes in various other industries. However, this rapid industrialization\n",
        "also brought challenges, including labor exploitation, environmental degradation, and an increasing gap between the rich and the poor.\"\n",
        "\n",
        "\"\"\"\n",
        "question =\"What significant contribution did Henry Ford make to the manufacturing industry, and how did it influence production processes across industries?\"\n",
        "\n",
        "# Encode inputs using tokenizer\n",
        "inputs = tokenizer(question, context, return_tensors=\"pt\")\n",
        "\n",
        "# Forward pass through the model\n",
        "outputs = model(**inputs)\n",
        "\n",
        "# Extract start and end logits\n",
        "start_logits = outputs.start_logits\n",
        "end_logits = outputs.end_logits\n",
        "\n",
        "# Find the answer span\n",
        "start_index = torch.argmax(start_logits)\n",
        "end_index = torch.argmax(end_logits) + 1\n",
        "\n",
        "# Decode the answer\n",
        "answer = tokenizer.convert_tokens_to_string(tokenizer.convert_ids_to_tokens(inputs[\"input_ids\"][0][start_index:end_index]))\n",
        "print(f\"Answer: {answer}\")\n",
        "\n"
      ],
      "metadata": {
        "colab": {
          "base_uri": "https://localhost:8080/"
        },
        "id": "upFFvR4gMhaV",
        "outputId": "f7e3df8e-a369-4a55-e7ef-a14129205e91"
      },
      "execution_count": 30,
      "outputs": [
        {
          "output_type": "stream",
          "name": "stdout",
          "text": [
            "Answer:  revolutionized\n"
          ]
        }
      ]
    },
    {
      "cell_type": "code",
      "source": [],
      "metadata": {
        "id": "hW15tM4SMvQx"
      },
      "execution_count": null,
      "outputs": []
    },
    {
      "cell_type": "code",
      "source": [
        "from transformers import pipeline\n",
        "\n",
        "# Load the pipeline for question answering\n",
        "qa_pipeline = pipeline(\"question-answering\", model=\"deepset/roberta-base-squad2\")\n",
        "\n",
        "# Define the input context and question\n",
        "context = \"\"\"\n",
        "\"In 2010, amidst the rapidly evolving tech landscape, Novatek Dynamics emerged as a pioneering force in enterprise software solutions. Headquartered in Dubai, the company\n",
        "quickly gained international recognition for its innovative cloud infrastructure, which accelerated digital transformation for Fortune 500 clients. The company initially\n",
        "faced challenges in convincing traditional enterprises to adopt AI-driven workflows, but Hassan, the visionary CEO, led the efforts to educate clients on AI's potential to streamline their operations.\n",
        "By 2015, Novatek expanded operations across Europe and Southeast Asia. In Europe, financial institutions adopted Novatek’s solutions to unify their fragmented customer\n",
        " data, improving customer service efficiency by 30%. In Southeast Asia, manufacturing industries leveraged Novatek's analytics tools to optimize supply chain management, reducing costs by 25%.\n",
        "Hassan conceptualized Novatek Dynamics as a platform to unify corporate workflows, addressing inefficiencies caused by disconnected systems. By combining AI-driven\n",
        "analytics with enterprise systems, the company provided businesses with actionable insights to improve decision-making and operational efficiency.\n",
        "Under Hassan’s leadership, Novatek Dynamics received multiple accolades, including the prestigious Global Innovation Award in 2021. This award recognized Novatek's pioneering\n",
        " integration of AI with cloud solutions, which set new standards for enterprise software performance. Despite challenges posed by global competitors, Hassan's strategy of continuous innovation and client-centric solutions enabled Novatek to maintain its edge.\n",
        "Today, Novatek Dynamics continues to redefine organizational efficiency by bridging gaps in technology adoption. By offering customized solutions for various industries,\n",
        "Novatek empowers companies to embrace digital transformation seamlessly. Hassan remains at the forefront of this mission, shaping the company's strategy and envisioning future advancements in enterprise technology.\"\n",
        "\"\"\"\n",
        "question =\"Who is the owner of Novatek Dynamics?\"\n",
        "\n",
        "# Perform question answering\n",
        "result = qa_pipeline(question=question, context=context)\n",
        "print(result)\n"
      ],
      "metadata": {
        "colab": {
          "base_uri": "https://localhost:8080/"
        },
        "id": "355mMeAtPhYu",
        "outputId": "92ebcd95-fbae-44e2-acd7-1fbb6503dbdc"
      },
      "execution_count": 31,
      "outputs": [
        {
          "output_type": "stream",
          "name": "stdout",
          "text": [
            "{'score': 0.004952470771968365, 'start': 433, 'end': 439, 'answer': 'Hassan'}\n"
          ]
        }
      ]
    },
    {
      "cell_type": "code",
      "source": [
        "from transformers import pipeline, AutoTokenizer, AutoModelForQuestionAnswering\n",
        "\n",
        "# Load the pipeline for question-answering\n",
        "pipe = pipeline(\"question-answering\", model=\"deepset/roberta-base-squad2\")\n",
        "\n",
        "# Manually load the tokenizer and model\n",
        "tokenizer = AutoTokenizer.from_pretrained(\"deepset/roberta-base-squad2\")\n",
        "model = AutoModelForQuestionAnswering.from_pretrained(\"deepset/roberta-base-squad2\")\n",
        "\n",
        "# Define a context and a question\n",
        "context = \"\"\"\n",
        "\"In 2010, amidst the rapidly evolving tech landscape, Novatek Dynamics emerged as a pioneering force in enterprise software solutions. Headquartered in Dubai, the company\n",
        "quickly gained international recognition for its innovative cloud infrastructure, which accelerated digital transformation for Fortune 500 clients. The company initially\n",
        "faced challenges in convincing traditional enterprises to adopt AI-driven workflows, but Hassan, the visionary CEO, led the efforts to educate clients on AI's potential to streamline their operations.\n",
        "By 2015, Novatek expanded operations across Europe and Southeast Asia. In Europe, financial institutions adopted Novatek’s solutions to unify their fragmented customer\n",
        " data, improving customer service efficiency by 30%. In Southeast Asia, manufacturing industries leveraged Novatek's analytics tools to optimize supply chain management, reducing costs by 25%.\n",
        "Hassan conceptualized Novatek Dynamics as a platform to unify corporate workflows, addressing inefficiencies caused by disconnected systems. By combining AI-driven\n",
        "analytics with enterprise systems, the company provided businesses with actionable insights to improve decision-making and operational efficiency.\n",
        "Under Hassan’s leadership, Novatek Dynamics received multiple accolades, including the prestigious Global Innovation Award in 2021. This award recognized Novatek's pioneering\n",
        " integration of AI with cloud solutions, which set new standards for enterprise software performance. Despite challenges posed by global competitors, Hassan's strategy of continuous innovation and client-centric solutions enabled Novatek to maintain its edge.\n",
        "Today, Novatek Dynamics continues to redefine organizational efficiency by bridging gaps in technology adoption. By offering customized solutions for various industries,\n",
        "Novatek empowers companies to embrace digital transformation seamlessly. Hassan remains at the forefront of this mission, shaping the company's strategy and envisioning future advancements in enterprise technology.\"\n",
        "\"\"\"\n",
        "question =\"Who is the owner of Novatek Dynamics?\"\n",
        "\n",
        "# Use the pipeline for QA\n",
        "output = pipe(question=question, context=context)\n",
        "print(\"Answer using pipeline:\", output['answer'])\n",
        "\n",
        "# Use the model and tokenizer directly\n",
        "inputs = tokenizer(question, context, return_tensors='pt')\n",
        "outputs = model(**inputs)\n",
        "\n",
        "# Compute start and end tokens of the answer\n",
        "start_idx = outputs.start_logits.argmax()\n",
        "end_idx = outputs.end_logits.argmax() + 1\n",
        "\n",
        "# Decode the answer\n",
        "answer = (tokenizer.convert_tokens_to_string(tokenizer.convert_ids_to_tokens(inputs['input_ids'][0][start_idx:end_idx]))).replace(\"<s>\", \"\").replace(\"</s>\", \"\").strip()\n",
        "\n",
        "print(\"\\nAnswer using tokenizer/model:\", answer)\n"
      ],
      "metadata": {
        "id": "4sQYZRIwP0o5",
        "colab": {
          "base_uri": "https://localhost:8080/"
        },
        "outputId": "ec10c524-f2ce-422e-a665-78c141f82068"
      },
      "execution_count": 35,
      "outputs": [
        {
          "output_type": "stream",
          "name": "stdout",
          "text": [
            "Answer using pipeline: Hassan\n",
            "\n",
            "Answer using tokenizer/model: \n"
          ]
        }
      ]
    },
    {
      "cell_type": "code",
      "source": [],
      "metadata": {
        "id": "86JmIiDcGT1Q"
      },
      "execution_count": null,
      "outputs": []
    },
    {
      "cell_type": "code",
      "source": [],
      "metadata": {
        "id": "JpUUOSEVGxln"
      },
      "execution_count": null,
      "outputs": []
    },
    {
      "cell_type": "code",
      "source": [
        "from transformers import pipeline, AutoTokenizer, AutoModelForQuestionAnswering\n",
        "\n",
        "# Load the pipeline for question-answering\n",
        "pipe = pipeline(\"question-answering\", model=\"deepset/roberta-base-squad2\")\n",
        "\n",
        "# Manually load the tokenizer and model\n",
        "tokenizer = AutoTokenizer.from_pretrained(\"deepset/roberta-base-squad2\")\n",
        "model = AutoModelForQuestionAnswering.from_pretrained(\"deepset/roberta-base-squad2\")\n",
        "\n",
        "# Define a context and a question\n",
        "context = \"\"\"\n",
        "\"In 2010, amidst the rapidly evolving tech landscape, Novatek Dynamics emerged as a pioneering force in enterprise software solutions. Headquartered in Dubai, the company\n",
        "quickly gained international recognition for its innovative cloud infrastructure, which accelerated digital transformation for Fortune 500 clients. The company initially\n",
        "faced challenges in convincing traditional enterprises to adopt AI-driven workflows, but Hassan, the visionary CEO, led the efforts to educate clients on AI's potential to streamline their operations.\n",
        "By 2015, Novatek expanded operations across Europe and Southeast Asia. In Europe, financial institutions adopted Novatek’s solutions to unify their fragmented customer\n",
        " data, improving customer service efficiency by 30%. In Southeast Asia, manufacturing industries leveraged Novatek's analytics tools to optimize supply chain management, reducing costs by 25%.\n",
        "Hassan conceptualized Novatek Dynamics as a platform to unify corporate workflows, addressing inefficiencies caused by disconnected systems. By combining AI-driven\n",
        "analytics with enterprise systems, the company provided businesses with actionable insights to improve decision-making and operational efficiency.\n",
        "Under Hassan’s leadership, Novatek Dynamics received multiple accolades, including the prestigious Global Innovation Award in 2021. This award recognized Novatek's pioneering\n",
        " integration of AI with cloud solutions, which set new standards for enterprise software performance. Despite challenges posed by global competitors, Hassan's strategy of continuous innovation and client-centric solutions enabled Novatek to maintain its edge.\n",
        "Today, Novatek Dynamics continues to redefine organizational efficiency by bridging gaps in technology adoption. By offering customized solutions for various industries,\n",
        "Novatek empowers companies to embrace digital transformation seamlessly. Hassan remains at the forefront of this mission, shaping the company's strategy and envisioning future advancements in enterprise technology.\"\n",
        "\"\"\"\n",
        "question =\"How did Novatek Dynamics gain international recognition, and what impact did it have on Fortune 500 clients?\"\n",
        "\n",
        "# Use the pipeline for QA\n",
        "output = pipe(question=question, context=context)\n",
        "print(\"Answer using pipeline:\", output['answer'])\n",
        "\n",
        "# Use the model and tokenizer directly\n",
        "inputs = tokenizer(question, context, return_tensors='pt')\n",
        "outputs = model(**inputs)\n",
        "\n",
        "# Compute start and end tokens of the answer\n",
        "start_idx = outputs.start_logits.argmax()\n",
        "end_idx = outputs.end_logits.argmax() + 1\n",
        "\n",
        "# Decode the answer\n",
        "answer = tokenizer.convert_tokens_to_string(tokenizer.convert_ids_to_tokens(inputs['input_ids'][0][start_idx:end_idx]))\n",
        "print(\"\\nAnswer using tokenizer/model:\", answer)\n"
      ],
      "metadata": {
        "colab": {
          "base_uri": "https://localhost:8080/"
        },
        "id": "Find4UwSGx_y",
        "outputId": "c0b39e3a-fd52-4add-d77b-e6f963f1ef45"
      },
      "execution_count": 36,
      "outputs": [
        {
          "output_type": "stream",
          "name": "stdout",
          "text": [
            "Answer using pipeline: accelerated digital transformation\n",
            "\n",
            "Answer using tokenizer/model:  accelerated digital transformation\n"
          ]
        }
      ]
    },
    {
      "cell_type": "code",
      "source": [
        "from transformers import pipeline, AutoTokenizer, AutoModelForQuestionAnswering\n",
        "\n",
        "# Load the pipeline for question-answering\n",
        "pipe = pipeline(\"question-answering\", model=\"deepset/roberta-base-squad2\")\n",
        "\n",
        "# Manually load the tokenizer and model\n",
        "tokenizer = AutoTokenizer.from_pretrained(\"deepset/roberta-base-squad2\")\n",
        "model = AutoModelForQuestionAnswering.from_pretrained(\"deepset/roberta-base-squad2\")\n",
        "\n",
        "# Define a context and a question\n",
        "context = \"\"\"\n",
        "\"In 2010, amidst the rapidly evolving tech landscape, Novatek Dynamics emerged as a pioneering force in enterprise software solutions. Headquartered in Dubai, the company\n",
        "quickly gained international recognition for its innovative cloud infrastructure, which accelerated digital transformation for Fortune 500 clients. The company initially\n",
        "faced challenges in convincing traditional enterprises to adopt AI-driven workflows, but Hassan, the visionary CEO, led the efforts to educate clients on AI's potential to streamline their operations.\n",
        "By 2015, Novatek expanded operations across Europe and Southeast Asia. In Europe, financial institutions adopted Novatek’s solutions to unify their fragmented customer\n",
        " data, improving customer service efficiency by 30%. In Southeast Asia, manufacturing industries leveraged Novatek's analytics tools to optimize supply chain management, reducing costs by 25%.\n",
        "Hassan conceptualized Novatek Dynamics as a platform to unify corporate workflows, addressing inefficiencies caused by disconnected systems. By combining AI-driven\n",
        "analytics with enterprise systems, the company provided businesses with actionable insights to improve decision-making and operational efficiency.\n",
        "Under Hassan’s leadership, Novatek Dynamics received multiple accolades, including the prestigious Global Innovation Award in 2021. This award recognized Novatek's pioneering\n",
        " integration of AI with cloud solutions, which set new standards for enterprise software performance. Despite challenges posed by global competitors, Hassan's strategy of continuous innovation and client-centric solutions enabled Novatek to maintain its edge.\n",
        "Today, Novatek Dynamics continues to redefine organizational efficiency by bridging gaps in technology adoption. By offering customized solutions for various industries,\n",
        "Novatek empowers companies to embrace digital transformation seamlessly. Hassan remains at the forefront of this mission, shaping the company's strategy and envisioning future advancements in enterprise technology.\"\n",
        "\"\"\"\n",
        "question =\"What regions did Novatek Dynamics expand into by 2015, and what reputation did it establish?\"\n",
        "\n",
        "# Use the pipeline for QA\n",
        "output = pipe(question=question, context=context)\n",
        "print(\"Answer using pipeline:\", output['answer'])\n",
        "\n",
        "# Use the model and tokenizer directly\n",
        "inputs = tokenizer(question, context, return_tensors='pt')\n",
        "outputs = model(**inputs)\n",
        "\n",
        "# Compute start and end tokens of the answer\n",
        "start_idx = outputs.start_logits.argmax()\n",
        "end_idx = outputs.end_logits.argmax() + 1\n",
        "\n",
        "# Decode the answer\n",
        "answer = (tokenizer.convert_tokens_to_string(tokenizer.convert_ids_to_tokens(inputs['input_ids'][0][start_idx:end_idx]))).replace(\"<s>\", \"\").replace(\"</s>\", \"\").strip()\n",
        "\n",
        "print(\"\\nAnswer using tokenizer/model:\", answer)\n"
      ],
      "metadata": {
        "colab": {
          "base_uri": "https://localhost:8080/"
        },
        "id": "vFo441ufGyR3",
        "outputId": "b7a3973f-65b9-48ac-dfaa-e7c812305ba2"
      },
      "execution_count": 37,
      "outputs": [
        {
          "output_type": "stream",
          "name": "stdout",
          "text": [
            "Answer using pipeline: Europe and Southeast Asia\n",
            "\n",
            "Answer using tokenizer/model: Europe and Southeast Asia\n"
          ]
        }
      ]
    },
    {
      "cell_type": "code",
      "source": [
        "from transformers import pipeline, AutoTokenizer, AutoModelForQuestionAnswering\n",
        "\n",
        "# Load the pipeline for question-answering\n",
        "pipe = pipeline(\"question-answering\", model=\"deepset/roberta-base-squad2\")\n",
        "\n",
        "# Manually load the tokenizer and model\n",
        "tokenizer = AutoTokenizer.from_pretrained(\"deepset/roberta-base-squad2\")\n",
        "model = AutoModelForQuestionAnswering.from_pretrained(\"deepset/roberta-base-squad2\")\n",
        "\n",
        "# Define a context and a question\n",
        "context = \"\"\"\n",
        "\"In 2010, amidst the rapidly evolving tech landscape, Novatek Dynamics emerged as a pioneering force in enterprise software solutions. Headquartered in Dubai, the company\n",
        "quickly gained international recognition for its innovative cloud infrastructure, which accelerated digital transformation for Fortune 500 clients. The company initially\n",
        "faced challenges in convincing traditional enterprises to adopt AI-driven workflows, but Hassan, the visionary CEO, led the efforts to educate clients on AI's potential to streamline their operations.\n",
        "By 2015, Novatek expanded operations across Europe and Southeast Asia. In Europe, financial institutions adopted Novatek’s solutions to unify their fragmented customer\n",
        " data, improving customer service efficiency by 30%. In Southeast Asia, manufacturing industries leveraged Novatek's analytics tools to optimize supply chain management, reducing costs by 25%.\n",
        "Hassan conceptualized Novatek Dynamics as a platform to unify corporate workflows, addressing inefficiencies caused by disconnected systems. By combining AI-driven\n",
        "analytics with enterprise systems, the company provided businesses with actionable insights to improve decision-making and operational efficiency.\n",
        "Under Hassan’s leadership, Novatek Dynamics received multiple accolades, including the prestigious Global Innovation Award in 2021. This award recognized Novatek's pioneering\n",
        " integration of AI with cloud solutions, which set new standards for enterprise software performance. Despite challenges posed by global competitors, Hassan's strategy of continuous innovation and client-centric solutions enabled Novatek to maintain its edge.\n",
        "Today, Novatek Dynamics continues to redefine organizational efficiency by bridging gaps in technology adoption. By offering customized solutions for various industries,\n",
        "Novatek empowers companies to embrace digital transformation seamlessly. Hassan remains at the forefront of this mission, shaping the company's strategy and envisioning future advancements in enterprise technology.\"\n",
        "\"\"\"\n",
        "question =\"What characteristics make Hassan a visionary leader in the tech industry?\"\n",
        "\n",
        "# Use the pipeline for QA\n",
        "output = pipe(question=question, context=context)\n",
        "print(\"Answer using pipeline:\", output['answer'])\n",
        "\n",
        "# Use the model and tokenizer directly\n",
        "inputs = tokenizer(question, context, return_tensors='pt')\n",
        "outputs = model(**inputs)\n",
        "\n",
        "# Compute start and end tokens of the answer\n",
        "start_idx = outputs.start_logits.argmax()\n",
        "end_idx = outputs.end_logits.argmax() + 1\n",
        "\n",
        "# Decode the answer\n",
        "answer = (tokenizer.convert_tokens_to_string(tokenizer.convert_ids_to_tokens(inputs['input_ids'][0][start_idx:end_idx]))).replace(\"<s>\", \"\").replace(\"</s>\", \"\").strip()\n",
        "\n",
        "print(\"\\nAnswer using tokenizer/model:\", answer)\n"
      ],
      "metadata": {
        "colab": {
          "base_uri": "https://localhost:8080/"
        },
        "id": "wuI3FHSGG6Z0",
        "outputId": "52dc1e64-563f-4d17-f02c-08b853ca3d9e"
      },
      "execution_count": 38,
      "outputs": [
        {
          "output_type": "stream",
          "name": "stdout",
          "text": [
            "Answer using pipeline: AI's potential to streamline their operations\n",
            "\n",
            "Answer using tokenizer/model: \n"
          ]
        }
      ]
    },
    {
      "cell_type": "code",
      "source": [],
      "metadata": {
        "id": "xMjZVgA_G6oP"
      },
      "execution_count": 39,
      "outputs": []
    },
    {
      "cell_type": "code",
      "source": [],
      "metadata": {
        "id": "qiaBfJzwG64r"
      },
      "execution_count": null,
      "outputs": []
    },
    {
      "cell_type": "code",
      "source": [
        "from transformers import pipeline, AutoTokenizer, AutoModelForQuestionAnswering\n",
        "\n",
        "# Load the pipeline for question-answering\n",
        "pipe = pipeline(\"question-answering\", model=\"deepset/roberta-base-squad2\")\n",
        "\n",
        "# Manually load the tokenizer and model\n",
        "tokenizer = AutoTokenizer.from_pretrained(\"deepset/roberta-base-squad2\")\n",
        "model = AutoModelForQuestionAnswering.from_pretrained(\"deepset/roberta-base-squad2\")\n",
        "\n",
        "# Define a context and a question\n",
        "context = \"\"\"\n",
        "\"In 2010, amidst the rapidly evolving tech landscape, Novatek Dynamics emerged as a pioneering force in enterprise software solutions. Headquartered in Dubai, the company\n",
        "quickly gained international recognition for its innovative cloud infrastructure, which accelerated digital transformation for Fortune 500 clients. The company initially\n",
        "faced challenges in convincing traditional enterprises to adopt AI-driven workflows, but Hassan, the visionary CEO, led the efforts to educate clients on AI's potential to streamline their operations.\n",
        "By 2015, Novatek expanded operations across Europe and Southeast Asia. In Europe, financial institutions adopted Novatek’s solutions to unify their fragmented customer\n",
        " data, improving customer service efficiency by 30%. In Southeast Asia, manufacturing industries leveraged Novatek's analytics tools to optimize supply chain management, reducing costs by 25%.\n",
        "Hassan conceptualized Novatek Dynamics as a platform to unify corporate workflows, addressing inefficiencies caused by disconnected systems. By combining AI-driven\n",
        "analytics with enterprise systems, the company provided businesses with actionable insights to improve decision-making and operational efficiency.\n",
        "Under Hassan’s leadership, Novatek Dynamics received multiple accolades, including the prestigious Global Innovation Award in 2021. This award recognized Novatek's pioneering\n",
        " integration of AI with cloud solutions, which set new standards for enterprise software performance. Despite challenges posed by global competitors, Hassan's strategy of continuous innovation and client-centric solutions enabled Novatek to maintain its edge.\n",
        "Today, Novatek Dynamics continues to redefine organizational efficiency by bridging gaps in technology adoption. By offering customized solutions for various industries,\n",
        "Novatek empowers companies to embrace digital transformation seamlessly. Hassan remains at the forefront of this mission, shaping the company's strategy and envisioning future advancements in enterprise technology.\"\n",
        "\"\"\"\n",
        "question =\"What challenges might Hassan have faced when conceptualizing the platform, and how could his leadership have overcome them?\"\n",
        "\n",
        "# Use the pipeline for QA\n",
        "output = pipe(question=question, context=context)\n",
        "print(\"Answer using pipeline:\", output['answer'])\n",
        "\n",
        "# Use the model and tokenizer directly\n",
        "inputs = tokenizer(question, context, return_tensors='pt')\n",
        "outputs = model(**inputs)\n",
        "\n",
        "# Compute start and end tokens of the answer\n",
        "start_idx = outputs.start_logits.argmax()\n",
        "end_idx = outputs.end_logits.argmax() + 1\n",
        "\n",
        "# Decode the answer\n",
        "answer = (tokenizer.convert_tokens_to_string(tokenizer.convert_ids_to_tokens(inputs['input_ids'][0][start_idx:end_idx]))).replace(\"<s>\", \"\").replace(\"</s>\", \"\").strip()\n",
        "\n",
        "print(\"\\nAnswer using tokenizer/model:\", answer)\n"
      ],
      "metadata": {
        "colab": {
          "base_uri": "https://localhost:8080/"
        },
        "id": "dQ0-NPYLG7ID",
        "outputId": "2c41f020-ce48-4fcd-9343-8bc8768598e0"
      },
      "execution_count": 39,
      "outputs": [
        {
          "output_type": "stream",
          "name": "stdout",
          "text": [
            "Answer using pipeline: inefficiencies caused by disconnected systems\n",
            "\n",
            "Answer using tokenizer/model: inefficiencies caused by disconnected systems\n"
          ]
        }
      ]
    },
    {
      "cell_type": "code",
      "source": [],
      "metadata": {
        "id": "1DDIRfaXG7SL"
      },
      "execution_count": null,
      "outputs": []
    },
    {
      "cell_type": "code",
      "source": [],
      "metadata": {
        "id": "7glv5azGG7ce"
      },
      "execution_count": null,
      "outputs": []
    }
  ]
}